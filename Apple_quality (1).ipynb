{
 "cells": [
  {
   "cell_type": "code",
   "execution_count": 1,
   "id": "807ec1c4",
   "metadata": {},
   "outputs": [],
   "source": [
    "import numpy as np\n",
    "import pandas as pd\n",
    "import matplotlib.pyplot as plt\n",
    "import seaborn as sns"
   ]
  },
  {
   "cell_type": "code",
   "execution_count": 2,
   "id": "e8e183ec",
   "metadata": {},
   "outputs": [],
   "source": [
    "data=pd.read_csv(r\"C:\\Users\\mohanan\\Videos\\apple_quality.csv\")"
   ]
  },
  {
   "cell_type": "code",
   "execution_count": 3,
   "id": "c2df83eb",
   "metadata": {},
   "outputs": [
    {
     "data": {
      "text/html": [
       "<div>\n",
       "<style scoped>\n",
       "    .dataframe tbody tr th:only-of-type {\n",
       "        vertical-align: middle;\n",
       "    }\n",
       "\n",
       "    .dataframe tbody tr th {\n",
       "        vertical-align: top;\n",
       "    }\n",
       "\n",
       "    .dataframe thead th {\n",
       "        text-align: right;\n",
       "    }\n",
       "</style>\n",
       "<table border=\"1\" class=\"dataframe\">\n",
       "  <thead>\n",
       "    <tr style=\"text-align: right;\">\n",
       "      <th></th>\n",
       "      <th>A_id</th>\n",
       "      <th>Size</th>\n",
       "      <th>Weight</th>\n",
       "      <th>Sweetness</th>\n",
       "      <th>Crunchiness</th>\n",
       "      <th>Juiciness</th>\n",
       "      <th>Ripeness</th>\n",
       "      <th>Acidity</th>\n",
       "      <th>Quality</th>\n",
       "    </tr>\n",
       "  </thead>\n",
       "  <tbody>\n",
       "    <tr>\n",
       "      <th>0</th>\n",
       "      <td>0</td>\n",
       "      <td>-3.970049</td>\n",
       "      <td>-2.512336</td>\n",
       "      <td>5.346330</td>\n",
       "      <td>-1.012009</td>\n",
       "      <td>1.844900</td>\n",
       "      <td>0.329840</td>\n",
       "      <td>-0.491590</td>\n",
       "      <td>good</td>\n",
       "    </tr>\n",
       "    <tr>\n",
       "      <th>1</th>\n",
       "      <td>1</td>\n",
       "      <td>-1.195217</td>\n",
       "      <td>-2.839257</td>\n",
       "      <td>3.664059</td>\n",
       "      <td>1.588232</td>\n",
       "      <td>0.853286</td>\n",
       "      <td>0.867530</td>\n",
       "      <td>-0.722809</td>\n",
       "      <td>good</td>\n",
       "    </tr>\n",
       "    <tr>\n",
       "      <th>2</th>\n",
       "      <td>2</td>\n",
       "      <td>-0.292024</td>\n",
       "      <td>-1.351282</td>\n",
       "      <td>-1.738429</td>\n",
       "      <td>-0.342616</td>\n",
       "      <td>2.838636</td>\n",
       "      <td>-0.038033</td>\n",
       "      <td>2.621636</td>\n",
       "      <td>bad</td>\n",
       "    </tr>\n",
       "    <tr>\n",
       "      <th>3</th>\n",
       "      <td>3</td>\n",
       "      <td>-0.657196</td>\n",
       "      <td>-2.271627</td>\n",
       "      <td>1.324874</td>\n",
       "      <td>-0.097875</td>\n",
       "      <td>3.637970</td>\n",
       "      <td>-3.413761</td>\n",
       "      <td>0.790723</td>\n",
       "      <td>good</td>\n",
       "    </tr>\n",
       "    <tr>\n",
       "      <th>4</th>\n",
       "      <td>4</td>\n",
       "      <td>1.364217</td>\n",
       "      <td>-1.296612</td>\n",
       "      <td>-0.384658</td>\n",
       "      <td>-0.553006</td>\n",
       "      <td>3.030874</td>\n",
       "      <td>-1.303849</td>\n",
       "      <td>0.501984</td>\n",
       "      <td>good</td>\n",
       "    </tr>\n",
       "  </tbody>\n",
       "</table>\n",
       "</div>"
      ],
      "text/plain": [
       "   A_id      Size    Weight  Sweetness  Crunchiness  Juiciness  Ripeness  \\\n",
       "0     0 -3.970049 -2.512336   5.346330    -1.012009   1.844900  0.329840   \n",
       "1     1 -1.195217 -2.839257   3.664059     1.588232   0.853286  0.867530   \n",
       "2     2 -0.292024 -1.351282  -1.738429    -0.342616   2.838636 -0.038033   \n",
       "3     3 -0.657196 -2.271627   1.324874    -0.097875   3.637970 -3.413761   \n",
       "4     4  1.364217 -1.296612  -0.384658    -0.553006   3.030874 -1.303849   \n",
       "\n",
       "    Acidity Quality  \n",
       "0 -0.491590    good  \n",
       "1 -0.722809    good  \n",
       "2  2.621636     bad  \n",
       "3  0.790723    good  \n",
       "4  0.501984    good  "
      ]
     },
     "execution_count": 3,
     "metadata": {},
     "output_type": "execute_result"
    }
   ],
   "source": [
    "data.head()"
   ]
  },
  {
   "cell_type": "code",
   "execution_count": 4,
   "id": "4775070c",
   "metadata": {},
   "outputs": [
    {
     "data": {
      "text/html": [
       "<div>\n",
       "<style scoped>\n",
       "    .dataframe tbody tr th:only-of-type {\n",
       "        vertical-align: middle;\n",
       "    }\n",
       "\n",
       "    .dataframe tbody tr th {\n",
       "        vertical-align: top;\n",
       "    }\n",
       "\n",
       "    .dataframe thead th {\n",
       "        text-align: right;\n",
       "    }\n",
       "</style>\n",
       "<table border=\"1\" class=\"dataframe\">\n",
       "  <thead>\n",
       "    <tr style=\"text-align: right;\">\n",
       "      <th></th>\n",
       "      <th>A_id</th>\n",
       "      <th>Size</th>\n",
       "      <th>Weight</th>\n",
       "      <th>Sweetness</th>\n",
       "      <th>Crunchiness</th>\n",
       "      <th>Juiciness</th>\n",
       "      <th>Ripeness</th>\n",
       "      <th>Acidity</th>\n",
       "    </tr>\n",
       "  </thead>\n",
       "  <tbody>\n",
       "    <tr>\n",
       "      <th>count</th>\n",
       "      <td>4000.000000</td>\n",
       "      <td>4000.000000</td>\n",
       "      <td>4000.000000</td>\n",
       "      <td>4000.000000</td>\n",
       "      <td>4000.000000</td>\n",
       "      <td>4000.000000</td>\n",
       "      <td>4000.000000</td>\n",
       "      <td>3999.000000</td>\n",
       "    </tr>\n",
       "    <tr>\n",
       "      <th>mean</th>\n",
       "      <td>1999.500000</td>\n",
       "      <td>-0.503015</td>\n",
       "      <td>-0.989547</td>\n",
       "      <td>-0.470479</td>\n",
       "      <td>0.985478</td>\n",
       "      <td>0.512118</td>\n",
       "      <td>0.498277</td>\n",
       "      <td>0.076230</td>\n",
       "    </tr>\n",
       "    <tr>\n",
       "      <th>std</th>\n",
       "      <td>1154.844867</td>\n",
       "      <td>1.928059</td>\n",
       "      <td>1.602507</td>\n",
       "      <td>1.943441</td>\n",
       "      <td>1.402757</td>\n",
       "      <td>1.930286</td>\n",
       "      <td>1.874427</td>\n",
       "      <td>2.110136</td>\n",
       "    </tr>\n",
       "    <tr>\n",
       "      <th>min</th>\n",
       "      <td>0.000000</td>\n",
       "      <td>-7.151703</td>\n",
       "      <td>-7.149848</td>\n",
       "      <td>-6.894485</td>\n",
       "      <td>-6.055058</td>\n",
       "      <td>-5.961897</td>\n",
       "      <td>-5.864599</td>\n",
       "      <td>-7.010538</td>\n",
       "    </tr>\n",
       "    <tr>\n",
       "      <th>25%</th>\n",
       "      <td>999.750000</td>\n",
       "      <td>-1.816765</td>\n",
       "      <td>-2.011770</td>\n",
       "      <td>-1.738425</td>\n",
       "      <td>0.062764</td>\n",
       "      <td>-0.801286</td>\n",
       "      <td>-0.771677</td>\n",
       "      <td>-1.377510</td>\n",
       "    </tr>\n",
       "    <tr>\n",
       "      <th>50%</th>\n",
       "      <td>1999.500000</td>\n",
       "      <td>-0.513703</td>\n",
       "      <td>-0.984736</td>\n",
       "      <td>-0.504758</td>\n",
       "      <td>0.998249</td>\n",
       "      <td>0.534219</td>\n",
       "      <td>0.503445</td>\n",
       "      <td>0.022421</td>\n",
       "    </tr>\n",
       "    <tr>\n",
       "      <th>75%</th>\n",
       "      <td>2999.250000</td>\n",
       "      <td>0.805526</td>\n",
       "      <td>0.030976</td>\n",
       "      <td>0.801922</td>\n",
       "      <td>1.894234</td>\n",
       "      <td>1.835976</td>\n",
       "      <td>1.766212</td>\n",
       "      <td>1.509737</td>\n",
       "    </tr>\n",
       "    <tr>\n",
       "      <th>max</th>\n",
       "      <td>3999.000000</td>\n",
       "      <td>6.406367</td>\n",
       "      <td>5.790714</td>\n",
       "      <td>6.374916</td>\n",
       "      <td>7.619852</td>\n",
       "      <td>7.364403</td>\n",
       "      <td>7.237837</td>\n",
       "      <td>7.404736</td>\n",
       "    </tr>\n",
       "  </tbody>\n",
       "</table>\n",
       "</div>"
      ],
      "text/plain": [
       "              A_id         Size       Weight    Sweetness  Crunchiness  \\\n",
       "count  4000.000000  4000.000000  4000.000000  4000.000000  4000.000000   \n",
       "mean   1999.500000    -0.503015    -0.989547    -0.470479     0.985478   \n",
       "std    1154.844867     1.928059     1.602507     1.943441     1.402757   \n",
       "min       0.000000    -7.151703    -7.149848    -6.894485    -6.055058   \n",
       "25%     999.750000    -1.816765    -2.011770    -1.738425     0.062764   \n",
       "50%    1999.500000    -0.513703    -0.984736    -0.504758     0.998249   \n",
       "75%    2999.250000     0.805526     0.030976     0.801922     1.894234   \n",
       "max    3999.000000     6.406367     5.790714     6.374916     7.619852   \n",
       "\n",
       "         Juiciness     Ripeness      Acidity  \n",
       "count  4000.000000  4000.000000  3999.000000  \n",
       "mean      0.512118     0.498277     0.076230  \n",
       "std       1.930286     1.874427     2.110136  \n",
       "min      -5.961897    -5.864599    -7.010538  \n",
       "25%      -0.801286    -0.771677    -1.377510  \n",
       "50%       0.534219     0.503445     0.022421  \n",
       "75%       1.835976     1.766212     1.509737  \n",
       "max       7.364403     7.237837     7.404736  "
      ]
     },
     "execution_count": 4,
     "metadata": {},
     "output_type": "execute_result"
    }
   ],
   "source": [
    "data.describe()"
   ]
  },
  {
   "cell_type": "code",
   "execution_count": 5,
   "id": "c25f9bbe",
   "metadata": {},
   "outputs": [
    {
     "name": "stdout",
     "output_type": "stream",
     "text": [
      "<class 'pandas.core.frame.DataFrame'>\n",
      "RangeIndex: 4000 entries, 0 to 3999\n",
      "Data columns (total 9 columns):\n",
      " #   Column       Non-Null Count  Dtype  \n",
      "---  ------       --------------  -----  \n",
      " 0   A_id         4000 non-null   int64  \n",
      " 1   Size         4000 non-null   float64\n",
      " 2   Weight       4000 non-null   float64\n",
      " 3   Sweetness    4000 non-null   float64\n",
      " 4   Crunchiness  4000 non-null   float64\n",
      " 5   Juiciness    4000 non-null   float64\n",
      " 6   Ripeness     4000 non-null   float64\n",
      " 7   Acidity      3999 non-null   float64\n",
      " 8   Quality      4000 non-null   object \n",
      "dtypes: float64(7), int64(1), object(1)\n",
      "memory usage: 281.4+ KB\n"
     ]
    }
   ],
   "source": [
    "data.info()"
   ]
  },
  {
   "cell_type": "code",
   "execution_count": 6,
   "id": "1956d436",
   "metadata": {},
   "outputs": [
    {
     "data": {
      "text/plain": [
       "(4000, 9)"
      ]
     },
     "execution_count": 6,
     "metadata": {},
     "output_type": "execute_result"
    }
   ],
   "source": [
    "data.shape"
   ]
  },
  {
   "cell_type": "code",
   "execution_count": 7,
   "id": "e0f3dbd3-1601-4e3f-b09d-dfc4633cb186",
   "metadata": {},
   "outputs": [],
   "source": [
    "#Changing Datatype of acidity from object to float\n",
    "data['Acidity']=pd.to_numeric(data['Acidity'],errors='coerce')"
   ]
  },
  {
   "cell_type": "code",
   "execution_count": 8,
   "id": "d94b43ab-7830-47ec-8085-22b5a29cb775",
   "metadata": {},
   "outputs": [
    {
     "name": "stdout",
     "output_type": "stream",
     "text": [
      "<class 'pandas.core.frame.DataFrame'>\n",
      "RangeIndex: 4000 entries, 0 to 3999\n",
      "Data columns (total 9 columns):\n",
      " #   Column       Non-Null Count  Dtype  \n",
      "---  ------       --------------  -----  \n",
      " 0   A_id         4000 non-null   int64  \n",
      " 1   Size         4000 non-null   float64\n",
      " 2   Weight       4000 non-null   float64\n",
      " 3   Sweetness    4000 non-null   float64\n",
      " 4   Crunchiness  4000 non-null   float64\n",
      " 5   Juiciness    4000 non-null   float64\n",
      " 6   Ripeness     4000 non-null   float64\n",
      " 7   Acidity      3999 non-null   float64\n",
      " 8   Quality      4000 non-null   object \n",
      "dtypes: float64(7), int64(1), object(1)\n",
      "memory usage: 281.4+ KB\n"
     ]
    }
   ],
   "source": [
    "data.info()"
   ]
  },
  {
   "cell_type": "markdown",
   "id": "66b1197f",
   "metadata": {},
   "source": [
    "Missing value handling"
   ]
  },
  {
   "cell_type": "code",
   "execution_count": 9,
   "id": "570fef81",
   "metadata": {},
   "outputs": [
    {
     "data": {
      "text/plain": [
       "A_id           0\n",
       "Size           0\n",
       "Weight         0\n",
       "Sweetness      0\n",
       "Crunchiness    0\n",
       "Juiciness      0\n",
       "Ripeness       0\n",
       "Acidity        1\n",
       "Quality        0\n",
       "dtype: int64"
      ]
     },
     "execution_count": 9,
     "metadata": {},
     "output_type": "execute_result"
    }
   ],
   "source": [
    "data.isnull().sum()"
   ]
  },
  {
   "cell_type": "code",
   "execution_count": 10,
   "id": "28b7552a-67b8-451b-972c-34cd84a81a21",
   "metadata": {},
   "outputs": [],
   "source": [
    "data['Acidity']=data['Acidity'].fillna(data['Acidity'].mean())"
   ]
  },
  {
   "cell_type": "code",
   "execution_count": 11,
   "id": "4bfdcac2-de8c-4de7-ab3b-9e7165dc26cf",
   "metadata": {},
   "outputs": [
    {
     "data": {
      "text/plain": [
       "A_id           0\n",
       "Size           0\n",
       "Weight         0\n",
       "Sweetness      0\n",
       "Crunchiness    0\n",
       "Juiciness      0\n",
       "Ripeness       0\n",
       "Acidity        0\n",
       "Quality        0\n",
       "dtype: int64"
      ]
     },
     "execution_count": 11,
     "metadata": {},
     "output_type": "execute_result"
    }
   ],
   "source": [
    "data.isnull().sum()"
   ]
  },
  {
   "cell_type": "code",
   "execution_count": 12,
   "id": "fafe83c1",
   "metadata": {},
   "outputs": [
    {
     "data": {
      "text/plain": [
       "Quality\n",
       "good    2004\n",
       "bad     1996\n",
       "Name: count, dtype: int64"
      ]
     },
     "execution_count": 12,
     "metadata": {},
     "output_type": "execute_result"
    }
   ],
   "source": [
    "data['Quality'].value_counts()"
   ]
  },
  {
   "cell_type": "code",
   "execution_count": 13,
   "id": "824c19d9-75f2-4b92-8684-572fcfabae06",
   "metadata": {},
   "outputs": [
    {
     "data": {
      "text/html": [
       "<div>\n",
       "<style scoped>\n",
       "    .dataframe tbody tr th:only-of-type {\n",
       "        vertical-align: middle;\n",
       "    }\n",
       "\n",
       "    .dataframe tbody tr th {\n",
       "        vertical-align: top;\n",
       "    }\n",
       "\n",
       "    .dataframe thead th {\n",
       "        text-align: right;\n",
       "    }\n",
       "</style>\n",
       "<table border=\"1\" class=\"dataframe\">\n",
       "  <thead>\n",
       "    <tr style=\"text-align: right;\">\n",
       "      <th></th>\n",
       "      <th>A_id</th>\n",
       "      <th>Size</th>\n",
       "      <th>Weight</th>\n",
       "      <th>Sweetness</th>\n",
       "      <th>Crunchiness</th>\n",
       "      <th>Juiciness</th>\n",
       "      <th>Ripeness</th>\n",
       "      <th>Acidity</th>\n",
       "      <th>Quality</th>\n",
       "    </tr>\n",
       "  </thead>\n",
       "  <tbody>\n",
       "    <tr>\n",
       "      <th>0</th>\n",
       "      <td>0</td>\n",
       "      <td>-3.970049</td>\n",
       "      <td>-2.512336</td>\n",
       "      <td>5.346330</td>\n",
       "      <td>-1.012009</td>\n",
       "      <td>1.844900</td>\n",
       "      <td>0.329840</td>\n",
       "      <td>-0.491590</td>\n",
       "      <td>good</td>\n",
       "    </tr>\n",
       "    <tr>\n",
       "      <th>1</th>\n",
       "      <td>1</td>\n",
       "      <td>-1.195217</td>\n",
       "      <td>-2.839257</td>\n",
       "      <td>3.664059</td>\n",
       "      <td>1.588232</td>\n",
       "      <td>0.853286</td>\n",
       "      <td>0.867530</td>\n",
       "      <td>-0.722809</td>\n",
       "      <td>good</td>\n",
       "    </tr>\n",
       "    <tr>\n",
       "      <th>2</th>\n",
       "      <td>2</td>\n",
       "      <td>-0.292024</td>\n",
       "      <td>-1.351282</td>\n",
       "      <td>-1.738429</td>\n",
       "      <td>-0.342616</td>\n",
       "      <td>2.838636</td>\n",
       "      <td>-0.038033</td>\n",
       "      <td>2.621636</td>\n",
       "      <td>bad</td>\n",
       "    </tr>\n",
       "    <tr>\n",
       "      <th>3</th>\n",
       "      <td>3</td>\n",
       "      <td>-0.657196</td>\n",
       "      <td>-2.271627</td>\n",
       "      <td>1.324874</td>\n",
       "      <td>-0.097875</td>\n",
       "      <td>3.637970</td>\n",
       "      <td>-3.413761</td>\n",
       "      <td>0.790723</td>\n",
       "      <td>good</td>\n",
       "    </tr>\n",
       "    <tr>\n",
       "      <th>4</th>\n",
       "      <td>4</td>\n",
       "      <td>1.364217</td>\n",
       "      <td>-1.296612</td>\n",
       "      <td>-0.384658</td>\n",
       "      <td>-0.553006</td>\n",
       "      <td>3.030874</td>\n",
       "      <td>-1.303849</td>\n",
       "      <td>0.501984</td>\n",
       "      <td>good</td>\n",
       "    </tr>\n",
       "  </tbody>\n",
       "</table>\n",
       "</div>"
      ],
      "text/plain": [
       "   A_id      Size    Weight  Sweetness  Crunchiness  Juiciness  Ripeness  \\\n",
       "0     0 -3.970049 -2.512336   5.346330    -1.012009   1.844900  0.329840   \n",
       "1     1 -1.195217 -2.839257   3.664059     1.588232   0.853286  0.867530   \n",
       "2     2 -0.292024 -1.351282  -1.738429    -0.342616   2.838636 -0.038033   \n",
       "3     3 -0.657196 -2.271627   1.324874    -0.097875   3.637970 -3.413761   \n",
       "4     4  1.364217 -1.296612  -0.384658    -0.553006   3.030874 -1.303849   \n",
       "\n",
       "    Acidity Quality  \n",
       "0 -0.491590    good  \n",
       "1 -0.722809    good  \n",
       "2  2.621636     bad  \n",
       "3  0.790723    good  \n",
       "4  0.501984    good  "
      ]
     },
     "execution_count": 13,
     "metadata": {},
     "output_type": "execute_result"
    }
   ],
   "source": [
    "data.head()"
   ]
  },
  {
   "cell_type": "code",
   "execution_count": 14,
   "id": "e59e44bf-b158-4197-97a4-cc18ffe5b0d4",
   "metadata": {},
   "outputs": [],
   "source": [
    "# Dropping irrelevant column\n",
    "data.drop('A_id',axis=1,inplace=True)"
   ]
  },
  {
   "cell_type": "code",
   "execution_count": 15,
   "id": "b45662e2-1932-4b10-b779-98000a4b4485",
   "metadata": {},
   "outputs": [
    {
     "data": {
      "text/plain": [
       "(4000, 8)"
      ]
     },
     "execution_count": 15,
     "metadata": {},
     "output_type": "execute_result"
    }
   ],
   "source": [
    "data.shape"
   ]
  },
  {
   "cell_type": "markdown",
   "id": "d4f2c37c",
   "metadata": {},
   "source": [
    "Visualization"
   ]
  },
  {
   "cell_type": "code",
   "execution_count": 16,
   "id": "0071ef61",
   "metadata": {},
   "outputs": [
    {
     "data": {
      "image/png": "[encoded data removed]",
      "text/plain": [
       "<Figure size 500x500 with 1 Axes>"
      ]
     },
     "metadata": {},
     "output_type": "display_data"
    }
   ],
   "source": [
    "plt.figure(figsize=(5,5))\n",
    "sns.countplot(x=data['Quality'],data=data)\n",
    "plt.title(\"Quality\")\n",
    "plt.tight_layout\n",
    "plt.show()"
   ]
  },
  {
   "cell_type": "markdown",
   "id": "e754a8a3-600d-49dc-8538-8df80459a65b",
   "metadata": {},
   "source": [
    "The dataset is balanced, with nearly equal numbers of \"good\" and \"bad\" apples.\n",
    "Each category (\"good\" and \"bad\") has around 2000 samples."
   ]
  },
  {
   "cell_type": "code",
   "execution_count": 17,
   "id": "5e15bcee-59be-48cd-9333-c2018a47ffa5",
   "metadata": {},
   "outputs": [
    {
     "data": {
      "image/png": "[encoded data removed]",
      "text/plain": [
       "<Figure size 640x480 with 1 Axes>"
      ]
     },
     "metadata": {},
     "output_type": "display_data"
    }
   ],
   "source": [
    "sns.violinplot(x='Quality', y='Size', data=data)\n",
    "plt.title('Violin Plot: Size vs Quality')\n",
    "plt.show()\n"
   ]
  },
  {
   "cell_type": "markdown",
   "id": "ca14ae8e-d15a-4a76-9e66-4d7864b4bb35",
   "metadata": {},
   "source": [
    "Insight:Size doesnot appear to be strong distinguishing factor between good and bad apple\n",
    "Violin plot shows size distribution is quite alike"
   ]
  },
  {
   "cell_type": "code",
   "execution_count": 19,
   "id": "8f6b65ea-012d-44b3-9664-0a0fa6d59e51",
   "metadata": {},
   "outputs": [
    {
     "data": {
      "image/png": "[encoded data removed]",
      "text/plain": [
       "<Figure size 640x480 with 1 Axes>"
      ]
     },
     "metadata": {},
     "output_type": "display_data"
    }
   ],
   "source": [
    "sns.violinplot(x='Quality', y='Weight', data=data)\n",
    "plt.title(' Weight vs Quality')\n",
    "plt.show()"
   ]
  },
  {
   "cell_type": "markdown",
   "id": "5e6661cf-d468-418b-93b8-7b4018522758",
   "metadata": {},
   "source": [
    "Insight: The median weight for good quality and bad apples is quite same  \n",
    "The violin for good apples is slightly more spread out."
   ]
  },
  {
   "cell_type": "code",
   "execution_count": 19,
   "id": "38baa2ec-1c48-4450-8c98-a2ba0de99396",
   "metadata": {},
   "outputs": [
    {
     "data": {
      "image/png": "[encoded data removed]",
      "text/plain": [
       "<Figure size 640x480 with 1 Axes>"
      ]
     },
     "metadata": {},
     "output_type": "display_data"
    }
   ],
   "source": [
    "# Feature Vs Quality\n",
    "sns.boxplot(x='Quality', y='Sweetness', data=data)\n",
    "plt.title(\"Sweetness by Apple Quality\")\n",
    "plt.show()"
   ]
  },
  {
   "cell_type": "markdown",
   "id": "66df3383-c20d-479b-a8a1-051f87b4093a",
   "metadata": {},
   "source": [
    "Good apples tend to be slightly sweeter:\n",
    "The median sweetness for good apples is higher than for bad apples.\n",
    "This suggests sweetness positively contributes to apple quality.\n",
    "Bad apples have a wider spread in sweetness:\n",
    "The interquartile range (IQR) and whiskers are longer for bad apples.\n",
    "This indicates inconsistent sweetness in bad apples.\n",
    "Outliers exist in both categories:\n",
    "Good apples have more high-sweetness outliers, possibly very sweet apples.\n",
    "Bad apples have more low-sweetness outliers, which might hurt their quality."
   ]
  },
  {
   "cell_type": "code",
   "execution_count": 20,
   "id": "0b2b427e-62f5-4bd8-b705-90c0db259ec7",
   "metadata": {},
   "outputs": [
    {
     "data": {
      "image/png": "[encoded data removed]",
      "text/plain": [
       "<Figure size 640x480 with 1 Axes>"
      ]
     },
     "metadata": {},
     "output_type": "display_data"
    }
   ],
   "source": [
    "sns.boxplot(x='Quality', y='Crunchiness', data=data)\n",
    "plt.title(\"Crunchiness by Apple Quality\")\n",
    "plt.show()"
   ]
  },
  {
   "cell_type": "markdown",
   "id": "2ffc0e22-730a-483d-93a7-27296163a36f",
   "metadata": {},
   "source": [
    "Good and bad apples have similar crunchiness medians:\n",
    "The median crunchiness is almost the same for both groups.\n",
    "So crunchiness may not be a strong differentiator of quality on its own.\n",
    "Good apples show wider crunchiness variability:\n",
    "The interquartile range (IQR) is slightly larger for good apples.\n",
    "This suggests good apples can vary more in crunchiness, yet still be high quality.\n",
    "More extreme low outliers for good apples:\n",
    "Surprisingly, some good apples are not crunchy at all (even negative values).\n",
    "This might imply crunchiness is not essential for an apple to be considered good."
   ]
  },
  {
   "cell_type": "code",
   "execution_count": 21,
   "id": "b38b12d1-e5cd-4772-8b06-35e1b4386330",
   "metadata": {},
   "outputs": [
    {
     "data": {
      "image/png": "[encoded data removed]",
      "text/plain": [
       "<Figure size 640x480 with 1 Axes>"
      ]
     },
     "metadata": {},
     "output_type": "display_data"
    }
   ],
   "source": [
    "sns.boxplot(x='Quality', y='Juiciness', data=data)\n",
    "plt.title(\"Juiciness by Apple Quality\")\n",
    "plt.show()"
   ]
  },
  {
   "cell_type": "markdown",
   "id": "a8069009-cb1c-42ef-ad5a-7684626aa7df",
   "metadata": {},
   "source": [
    "Good apples tend to be juicier:\n",
    "The median juiciness is higher for good apples.\n",
    "Good-quality apples have more samples above 0 in juiciness, showing a positive tendency.\n",
    "Bad apples lean toward dryness:\n",
    "The lower quartile of bad apples extends into negative juiciness (less juicy or dry).\n",
    "This suggests that low juiciness could be a sign of bad quality.\n",
    "Some overlap exists:\n",
    "There's a significant range of values where juiciness overlaps for both good and bad apples.\n",
    "This means juiciness alone isn't enough to fully predict quality, but it adds value when combined with other features.\n",
    "Mild outliers on both sides:\n",
    "Both quality types have a few outliers, but they’re not extreme.\n",
    "These can be kept if they reflect natural variation in fruit characteristics.\n",
    "\n"
   ]
  },
  {
   "cell_type": "code",
   "execution_count": 22,
   "id": "34583326-faf8-4fcb-b135-6ef7aa88e935",
   "metadata": {},
   "outputs": [
    {
     "data": {
      "image/png": "[encoded data removed]",
      "text/plain": [
       "<Figure size 640x480 with 1 Axes>"
      ]
     },
     "metadata": {},
     "output_type": "display_data"
    }
   ],
   "source": [
    "sns.boxplot(x='Quality', y='Ripeness', data=data)\n",
    "plt.title(\"Ripeness by Apple Quality\")\n",
    "plt.show()"
   ]
  },
  {
   "cell_type": "markdown",
   "id": "a13de565-7880-4d10-9433-0892eaf8479d",
   "metadata": {},
   "source": [
    "This suggests that bad apples tend to be more ripe or even overripe compared to good apples.\n",
    "Bad apples show a wider IQR, meaning there's more variation in ripeness among them.\n",
    "Good apples are more tightly distributed in ripeness.\n",
    "Both groups contain outliers on both ends:\n",
    "Good apples have a few underripe outliers (ripeness < -4).\n",
    "Bad apples have both underripe and overripe outliers.\n",
    "Bad apples are more skewed and less consistent in ripeness.\n",
    "Good apples seem to have a narrower, more balanced ripeness range."
   ]
  },
  {
   "cell_type": "code",
   "execution_count": 23,
   "id": "bcaedc86-2e9a-4f1d-bda1-eda1ab86141b",
   "metadata": {},
   "outputs": [
    {
     "data": {
      "image/png": "[encoded data removed]",
      "text/plain": [
       "<Figure size 640x480 with 1 Axes>"
      ]
     },
     "metadata": {},
     "output_type": "display_data"
    }
   ],
   "source": [
    "sns.boxplot(x='Quality',y='Acidity',data=data)\n",
    "plt.title('Acidity By Apple Quality')\n",
    "plt.show()"
   ]
  },
  {
   "cell_type": "markdown",
   "id": "4eafb5a5-6113-4952-bf6f-0578c0e36e1f",
   "metadata": {},
   "source": [
    "Insight:Both good and bad apples have similar median acidity level around 0\n",
    "The middle 50% of values is nearly the same both good and bad apples\n",
    "Both quality categories have several outliers on both high and low ends but which is not too far"
   ]
  },
  {
   "cell_type": "markdown",
   "id": "e16429f1",
   "metadata": {},
   "source": [
    "Defining Dependant and independant Variables"
   ]
  },
  {
   "cell_type": "code",
   "execution_count": 24,
   "id": "55961052",
   "metadata": {},
   "outputs": [],
   "source": [
    "# Encoding Dependent variable\n",
    "from sklearn.preprocessing import LabelEncoder\n",
    "Le=LabelEncoder()\n",
    "data['Quality']=Le.fit_transform(data['Quality'])"
   ]
  },
  {
   "cell_type": "code",
   "execution_count": 25,
   "id": "4de3d617",
   "metadata": {},
   "outputs": [
    {
     "data": {
      "text/plain": [
       "0       1\n",
       "1       1\n",
       "2       0\n",
       "3       1\n",
       "4       1\n",
       "       ..\n",
       "3995    0\n",
       "3996    1\n",
       "3997    0\n",
       "3998    1\n",
       "3999    1\n",
       "Name: Quality, Length: 4000, dtype: int32"
      ]
     },
     "execution_count": 25,
     "metadata": {},
     "output_type": "execute_result"
    }
   ],
   "source": [
    "data.Quality"
   ]
  },
  {
   "cell_type": "code",
   "execution_count": 26,
   "id": "b7f2630b",
   "metadata": {},
   "outputs": [],
   "source": [
    "X=data.drop(['Quality'],axis=1)\n",
    "y=data['Quality']"
   ]
  },
  {
   "cell_type": "code",
   "execution_count": 27,
   "id": "f39ecf89",
   "metadata": {},
   "outputs": [
    {
     "data": {
      "text/html": [
       "<div>\n",
       "<style scoped>\n",
       "    .dataframe tbody tr th:only-of-type {\n",
       "        vertical-align: middle;\n",
       "    }\n",
       "\n",
       "    .dataframe tbody tr th {\n",
       "        vertical-align: top;\n",
       "    }\n",
       "\n",
       "    .dataframe thead th {\n",
       "        text-align: right;\n",
       "    }\n",
       "</style>\n",
       "<table border=\"1\" class=\"dataframe\">\n",
       "  <thead>\n",
       "    <tr style=\"text-align: right;\">\n",
       "      <th></th>\n",
       "      <th>Size</th>\n",
       "      <th>Weight</th>\n",
       "      <th>Sweetness</th>\n",
       "      <th>Crunchiness</th>\n",
       "      <th>Juiciness</th>\n",
       "      <th>Ripeness</th>\n",
       "      <th>Acidity</th>\n",
       "    </tr>\n",
       "  </thead>\n",
       "  <tbody>\n",
       "    <tr>\n",
       "      <th>0</th>\n",
       "      <td>-3.970049</td>\n",
       "      <td>-2.512336</td>\n",
       "      <td>5.346330</td>\n",
       "      <td>-1.012009</td>\n",
       "      <td>1.844900</td>\n",
       "      <td>0.329840</td>\n",
       "      <td>-0.491590</td>\n",
       "    </tr>\n",
       "    <tr>\n",
       "      <th>1</th>\n",
       "      <td>-1.195217</td>\n",
       "      <td>-2.839257</td>\n",
       "      <td>3.664059</td>\n",
       "      <td>1.588232</td>\n",
       "      <td>0.853286</td>\n",
       "      <td>0.867530</td>\n",
       "      <td>-0.722809</td>\n",
       "    </tr>\n",
       "    <tr>\n",
       "      <th>2</th>\n",
       "      <td>-0.292024</td>\n",
       "      <td>-1.351282</td>\n",
       "      <td>-1.738429</td>\n",
       "      <td>-0.342616</td>\n",
       "      <td>2.838636</td>\n",
       "      <td>-0.038033</td>\n",
       "      <td>2.621636</td>\n",
       "    </tr>\n",
       "    <tr>\n",
       "      <th>3</th>\n",
       "      <td>-0.657196</td>\n",
       "      <td>-2.271627</td>\n",
       "      <td>1.324874</td>\n",
       "      <td>-0.097875</td>\n",
       "      <td>3.637970</td>\n",
       "      <td>-3.413761</td>\n",
       "      <td>0.790723</td>\n",
       "    </tr>\n",
       "    <tr>\n",
       "      <th>4</th>\n",
       "      <td>1.364217</td>\n",
       "      <td>-1.296612</td>\n",
       "      <td>-0.384658</td>\n",
       "      <td>-0.553006</td>\n",
       "      <td>3.030874</td>\n",
       "      <td>-1.303849</td>\n",
       "      <td>0.501984</td>\n",
       "    </tr>\n",
       "  </tbody>\n",
       "</table>\n",
       "</div>"
      ],
      "text/plain": [
       "       Size    Weight  Sweetness  Crunchiness  Juiciness  Ripeness   Acidity\n",
       "0 -3.970049 -2.512336   5.346330    -1.012009   1.844900  0.329840 -0.491590\n",
       "1 -1.195217 -2.839257   3.664059     1.588232   0.853286  0.867530 -0.722809\n",
       "2 -0.292024 -1.351282  -1.738429    -0.342616   2.838636 -0.038033  2.621636\n",
       "3 -0.657196 -2.271627   1.324874    -0.097875   3.637970 -3.413761  0.790723\n",
       "4  1.364217 -1.296612  -0.384658    -0.553006   3.030874 -1.303849  0.501984"
      ]
     },
     "execution_count": 27,
     "metadata": {},
     "output_type": "execute_result"
    }
   ],
   "source": [
    "X.head()"
   ]
  },
  {
   "cell_type": "code",
   "execution_count": 28,
   "id": "8b40a52d",
   "metadata": {},
   "outputs": [
    {
     "data": {
      "text/plain": [
       "0      -0.491590\n",
       "1      -0.722809\n",
       "2       2.621636\n",
       "3       0.790723\n",
       "4       0.501984\n",
       "          ...   \n",
       "3995    0.137784\n",
       "3996    1.854235\n",
       "3997   -1.334611\n",
       "3998   -2.229720\n",
       "3999    1.599796\n",
       "Name: Acidity, Length: 4000, dtype: float64"
      ]
     },
     "execution_count": 28,
     "metadata": {},
     "output_type": "execute_result"
    }
   ],
   "source": [
    "X.Acidity"
   ]
  },
  {
   "cell_type": "code",
   "execution_count": 29,
   "id": "2985aab4",
   "metadata": {},
   "outputs": [],
   "source": [
    "from sklearn.preprocessing import StandardScaler\n",
    "Sc=StandardScaler()\n",
    "X=Sc.fit_transform(X)"
   ]
  },
  {
   "cell_type": "code",
   "execution_count": 30,
   "id": "e933afd3",
   "metadata": {},
   "outputs": [],
   "source": [
    "X=pd.DataFrame(X)"
   ]
  },
  {
   "cell_type": "code",
   "execution_count": 31,
   "id": "fd75942f",
   "metadata": {},
   "outputs": [],
   "source": [
    "from sklearn.model_selection import train_test_split\n",
    "X_train,X_test,y_train,y_test=train_test_split(X,y,test_size=0.25,random_state=40)"
   ]
  },
  {
   "cell_type": "code",
   "execution_count": 32,
   "id": "9bf2c63f",
   "metadata": {},
   "outputs": [],
   "source": [
    "from sklearn.linear_model import LogisticRegression\n",
    "Lr= LogisticRegression()\n",
    "Lr.fit(X_train,y_train)\n",
    "y_pred=Lr.predict(X_test)"
   ]
  },
  {
   "cell_type": "code",
   "execution_count": 33,
   "id": "d23aa4d5",
   "metadata": {},
   "outputs": [
    {
     "data": {
      "text/plain": [
       "array([1, 0, 0, 1, 0])"
      ]
     },
     "execution_count": 33,
     "metadata": {},
     "output_type": "execute_result"
    }
   ],
   "source": [
    "y_pred[:5]"
   ]
  },
  {
   "cell_type": "code",
   "execution_count": 34,
   "id": "c3f939b4",
   "metadata": {},
   "outputs": [],
   "source": [
    "from sklearn.metrics import confusion_matrix,accuracy_score,precision_score,f1_score,recall_score"
   ]
  },
  {
   "cell_type": "code",
   "execution_count": 35,
   "id": "6c4bbdda",
   "metadata": {},
   "outputs": [
    {
     "name": "stdout",
     "output_type": "stream",
     "text": [
      "Accuracy_Score: 0.751\n",
      "Precision_Score: 0.7655310621242485\n",
      "f1_Score: 0.7541954590325765\n",
      "recall_Score: 0.7431906614785992\n"
     ]
    }
   ],
   "source": [
    "print(\"Accuracy_Score:\",accuracy_score(y_pred,y_test) )\n",
    "print(\"Precision_Score:\",precision_score(y_pred,y_test))\n",
    "print(\"f1_Score:\",f1_score(y_pred,y_test))\n",
    "print(\"recall_Score:\",recall_score(y_pred,y_test))"
   ]
  },
  {
   "cell_type": "code",
   "execution_count": 36,
   "id": "5f639999",
   "metadata": {},
   "outputs": [
    {
     "name": "stdout",
     "output_type": "stream",
     "text": [
      "Confusion matrix \n",
      " [[369 117]\n",
      " [132 382]]\n"
     ]
    }
   ],
   "source": [
    "print(\"Confusion matrix\",'\\n',confusion_matrix(y_pred,y_test))"
   ]
  },
  {
   "cell_type": "code",
   "execution_count": 37,
   "id": "7206cd68",
   "metadata": {},
   "outputs": [],
   "source": [
    "from sklearn.neighbors import KNeighborsClassifier\n",
    "acc_value=[]\n",
    "neighbors=np.arange(3,15)\n",
    "for k in neighbors:\n",
    "    knn=KNeighborsClassifier(n_neighbors=k,metric='minkowski')\n",
    "    knn.fit(X_train,y_train)\n",
    "    knn_pred=knn.predict(X_test)\n",
    "    acc=accuracy_score(knn_pred,y_test)\n",
    "    acc_value.append(acc)"
   ]
  },
  {
   "cell_type": "code",
   "execution_count": 38,
   "id": "4eb3af03",
   "metadata": {},
   "outputs": [
    {
     "data": {
      "image/png": "[encoded data removed]",
      "text/plain": [
       "<Figure size 640x480 with 1 Axes>"
      ]
     },
     "metadata": {},
     "output_type": "display_data"
    }
   ],
   "source": [
    "plt.plot(neighbors,acc_value,'*-')\n",
    "plt.xlabel('K Value')\n",
    "plt.ylabel('Accuracy')\n",
    "plt.show()"
   ]
  },
  {
   "cell_type": "markdown",
   "id": "cc62f5f2",
   "metadata": {},
   "source": [
    "we can see the highest accuracy is when K=5"
   ]
  },
  {
   "cell_type": "code",
   "execution_count": 39,
   "id": "405091ea",
   "metadata": {},
   "outputs": [],
   "source": [
    "#Building a model using Knn where k=5\n",
    "knn=KNeighborsClassifier(n_neighbors=5,metric='minkowski')\n",
    "knn.fit(X_train,y_train)\n",
    "knn_pred=knn.predict(X_test)"
   ]
  },
  {
   "cell_type": "code",
   "execution_count": 40,
   "id": "ea686c42",
   "metadata": {},
   "outputs": [
    {
     "name": "stdout",
     "output_type": "stream",
     "text": [
      "Accuracy_Score: 0.897\n",
      "Precision_Score: 0.8957915831663327\n",
      "f1_Score: 0.8966900702106319\n",
      "recall_Score: 0.8975903614457831\n"
     ]
    }
   ],
   "source": [
    "print(\"Accuracy_Score:\",accuracy_score(knn_pred,y_test) )\n",
    "print(\"Precision_Score:\",precision_score(knn_pred,y_test))\n",
    "print(\"f1_Score:\",f1_score(knn_pred,y_test))\n",
    "print(\"recall_Score:\",recall_score(knn_pred,y_test))"
   ]
  },
  {
   "cell_type": "code",
   "execution_count": 41,
   "id": "5173340e",
   "metadata": {},
   "outputs": [
    {
     "name": "stdout",
     "output_type": "stream",
     "text": [
      "ConfusionMatrix: \n",
      " [[450  52]\n",
      " [ 51 447]]\n"
     ]
    }
   ],
   "source": [
    "print('ConfusionMatrix:','\\n',confusion_matrix(knn_pred,y_test))"
   ]
  },
  {
   "cell_type": "code",
   "execution_count": 42,
   "id": "697dbc76",
   "metadata": {},
   "outputs": [],
   "source": [
    "# svm \n",
    "from sklearn.svm import SVC\n",
    "Sv=SVC(kernel='linear')\n",
    "Sv.fit(X_train,y_train)\n",
    "Sv_pred=Sv.predict(X_test)"
   ]
  },
  {
   "cell_type": "code",
   "execution_count": 43,
   "id": "ce1db5ea",
   "metadata": {},
   "outputs": [
    {
     "name": "stdout",
     "output_type": "stream",
     "text": [
      "Accuracy_Score: 0.748\n",
      "Precision_Score: 0.7695390781563126\n",
      "f1_Score: 0.7529411764705882\n",
      "recall_Score: 0.7370441458733206\n"
     ]
    }
   ],
   "source": [
    "print(\"Accuracy_Score:\",accuracy_score(Sv_pred,y_test) )\n",
    "print(\"Precision_Score:\",precision_score(Sv_pred,y_test))\n",
    "print(\"f1_Score:\",f1_score(Sv_pred,y_test))\n",
    "print(\"recall_Score:\",recall_score(Sv_pred,y_test))"
   ]
  },
  {
   "cell_type": "code",
   "execution_count": 44,
   "id": "8c1e9952",
   "metadata": {},
   "outputs": [
    {
     "name": "stdout",
     "output_type": "stream",
     "text": [
      "Confusion Matrix \n",
      " [[364 115]\n",
      " [137 384]]\n"
     ]
    }
   ],
   "source": [
    "print(\"Confusion Matrix\",'\\n',confusion_matrix(Sv_pred,y_test))"
   ]
  },
  {
   "cell_type": "code",
   "execution_count": 45,
   "id": "ccab0f5f",
   "metadata": {},
   "outputs": [],
   "source": [
    "#Decisin Tree\n",
    "from sklearn.tree import DecisionTreeClassifier\n",
    "Dt=DecisionTreeClassifier()\n",
    "Dt.fit(X_train,y_train)\n",
    "Dt_pred=Dt.predict(X_test)"
   ]
  },
  {
   "cell_type": "code",
   "execution_count": 46,
   "id": "c6fa04c7",
   "metadata": {},
   "outputs": [
    {
     "name": "stdout",
     "output_type": "stream",
     "text": [
      "Accuracy_Score: 0.796\n",
      "Precision_Score: 0.8276553106212425\n",
      "f1_Score: 0.8019417475728156\n",
      "recall_Score: 0.7777777777777778\n"
     ]
    }
   ],
   "source": [
    "print(\"Accuracy_Score:\",accuracy_score(Dt_pred,y_test) )\n",
    "print(\"Precision_Score:\",precision_score(Dt_pred,y_test))\n",
    "print(\"f1_Score:\",f1_score(Dt_pred,y_test))\n",
    "print(\"recall_Score:\",recall_score(Dt_pred,y_test))"
   ]
  },
  {
   "cell_type": "code",
   "execution_count": 47,
   "id": "bd515f18",
   "metadata": {},
   "outputs": [
    {
     "name": "stdout",
     "output_type": "stream",
     "text": [
      "Confusion Matrix \n",
      " [[383  86]\n",
      " [118 413]]\n"
     ]
    }
   ],
   "source": [
    "print('Confusion Matrix','\\n',confusion_matrix(Dt_pred,y_test))"
   ]
  },
  {
   "cell_type": "code",
   "execution_count": 48,
   "id": "284188a8",
   "metadata": {},
   "outputs": [],
   "source": [
    "#Random Forest\n",
    "from sklearn.ensemble import RandomForestClassifier\n",
    "Rf=RandomForestClassifier()\n",
    "Rf.fit(X_train,y_train)\n",
    "Rf_pred=Rf.predict(X_test)"
   ]
  },
  {
   "cell_type": "code",
   "execution_count": 49,
   "id": "d86dc2a2",
   "metadata": {},
   "outputs": [
    {
     "name": "stdout",
     "output_type": "stream",
     "text": [
      "Accuracy_Score: 0.894\n",
      "Precision_Score: 0.9038076152304609\n",
      "f1_Score: 0.8948412698412699\n",
      "recall_Score: 0.8860510805500982\n"
     ]
    }
   ],
   "source": [
    "print(\"Accuracy_Score:\",accuracy_score(Rf_pred,y_test) )\n",
    "print(\"Precision_Score:\",precision_score(Rf_pred,y_test))\n",
    "print(\"f1_Score:\",f1_score(Rf_pred,y_test))\n",
    "print(\"recall_Score:\",recall_score(Rf_pred,y_test))"
   ]
  },
  {
   "cell_type": "code",
   "execution_count": 50,
   "id": "7df1fd23",
   "metadata": {},
   "outputs": [
    {
     "name": "stdout",
     "output_type": "stream",
     "text": [
      "Confusion matrix \n",
      " [[443  48]\n",
      " [ 58 451]]\n"
     ]
    }
   ],
   "source": [
    "print('Confusion matrix','\\n',confusion_matrix(Rf_pred,y_test))"
   ]
  },
  {
   "cell_type": "markdown",
   "id": "de87837a",
   "metadata": {},
   "source": [
    "From Modeling we can see that Random forest Model gave maximum accuracy "
   ]
  },
  {
   "cell_type": "markdown",
   "id": "f0526b7c",
   "metadata": {},
   "source": [
    "Checking with sample data"
   ]
  },
  {
   "cell_type": "code",
   "execution_count": 51,
   "id": "947ba2c7",
   "metadata": {},
   "outputs": [],
   "source": [
    "test_data=[[-3.970049,-2.511236,5.346330,-1.012009,1.844900,0.329840,-0.49759]]"
   ]
  },
  {
   "cell_type": "code",
   "execution_count": 52,
   "id": "dcccdf52",
   "metadata": {},
   "outputs": [],
   "source": [
    "test_data=pd.DataFrame(test_data)"
   ]
  },
  {
   "cell_type": "code",
   "execution_count": 53,
   "id": "e51f2ae4",
   "metadata": {},
   "outputs": [
    {
     "data": {
      "text/plain": [
       "(1, 7)"
      ]
     },
     "execution_count": 53,
     "metadata": {},
     "output_type": "execute_result"
    }
   ],
   "source": [
    "test_data.shape"
   ]
  },
  {
   "cell_type": "code",
   "execution_count": 54,
   "id": "e5600c78",
   "metadata": {},
   "outputs": [],
   "source": [
    "#test_data1=test_data.transpose()"
   ]
  },
  {
   "cell_type": "code",
   "execution_count": 55,
   "id": "bba12641",
   "metadata": {},
   "outputs": [],
   "source": [
    "test_rf_pred=Rf.predict(test_data)"
   ]
  },
  {
   "cell_type": "code",
   "execution_count": 56,
   "id": "36692d98",
   "metadata": {},
   "outputs": [
    {
     "data": {
      "text/plain": [
       "array([1])"
      ]
     },
     "execution_count": 56,
     "metadata": {},
     "output_type": "execute_result"
    }
   ],
   "source": [
    "test_rf_pred"
   ]
  },
  {
   "cell_type": "markdown",
   "id": "eecdb818-f884-4729-9d09-976ef4610c68",
   "metadata": {},
   "source": [
    "Best Performing Models\n",
    "KNN and Random Forest have the highest accuracy and balanced metrics across the board.\n",
    "Between them, Random Forest is slightly better with higher precision and more robustness (less sensitive to noisy data).\n",
    "Logistic Regression and SVM\n",
    "Lower performance overall — especially recall for SVM (73%) and logistic regression (74%).\n",
    "These models are linear and may not handle complex patterns or feature interactions well without feature engineering or transformation.\n",
    "Decision Tree\n",
    "A good baseline: F1 score is 80%, which is strong.\n",
    "Slightly overfits compared to Random Forest, but still decent.\n",
    "\n"
   ]
  },
  {
   "cell_type": "markdown",
   "id": "d227f5bd-b7b1-45a1-9099-be9fd10112ee",
   "metadata": {},
   "source": [
    "Conclusion:The aim of this project was to predict the quality of apples (good or bad) based on their physical and taste-related attributes such as size, weight, sweetness, crunchiness, juiciness, ripeness, and acidity.\n",
    "Boxplots revealed key differences in features like ripeness, juiciness, and crunchiness between good and bad apples.\n",
    "Outliers were observed in most numeric columns. some  were retained where they represented natural variations.\n",
    "EDA suggested that features like ripeness, sweetness, and juiciness have noticeable influence on apple quality.\n",
    "Random Forest was the top-performing model, showing high accuracy and balanced precision-recall."
   ]
  },
  {
   "cell_type": "code",
   "execution_count": null,
   "id": "1f4a87c5-ba17-41cc-9489-4fff32cb981d",
   "metadata": {},
   "outputs": [],
   "source": []
  }
 ],
 "metadata": {
  "kernelspec": {
   "display_name": "Python 3 (ipykernel)",
   "language": "python",
   "name": "python3"
  },
  "language_info": {
   "codemirror_mode": {
    "name": "ipython",
    "version": 3
   },
   "file_extension": ".py",
   "mimetype": "text/x-python",
   "name": "python",
   "nbconvert_exporter": "python",
   "pygments_lexer": "ipython3",
   "version": "3.11.4"
  }
 },
 "nbformat": 4,
 "nbformat_minor": 5
}
